{
 "cells": [
  {
   "cell_type": "code",
   "execution_count": 8,
   "metadata": {},
   "outputs": [],
   "source": [
    "import numpy as np\n",
    "def calculate(list):\n",
    "        if len(list) != 9:\n",
    "             raise ValueError(\"List must contain nine numbers.\" )\n",
    "        np_array=np.asarray(list)\n",
    "        userlist4 = np_array.reshape(3, 3).tolist()\n",
    "        calculation = { \n",
    "            'mean': [np.mean(userlist4,axis=0).tolist(), np.mean(userlist4,axis=1).tolist(), np.mean(userlist4).tolist()],\n",
    "            'Variance': [np.var(userlist4,axis=0).tolist(), np.var(userlist4,axis=1).tolist(), np.var(userlist4).tolist()],\n",
    "            'standard Deviation': [np.std(userlist4,axis=0).tolist(), np.std(userlist4,axis=1).tolist(), np.std(userlist4).tolist()],\n",
    "            'Max': [np.max(userlist4,axis=0).tolist(), np.max(userlist4,axis=1).tolist(), np.max(userlist4).tolist()],\n",
    "            'Min': [np.min(userlist4,axis=0).tolist(), np.min(userlist4,axis=1).tolist(), np.min(userlist4).tolist()],\n",
    "            'Sum': [np.sum(userlist4,axis=0).tolist(), np.sum(userlist4,axis=1).tolist(), np.sum(userlist4).tolist()]   \n",
    "        }\n",
    "        return calculation\n",
    "   "
   ]
  },
  {
   "cell_type": "code",
   "execution_count": 9,
   "metadata": {},
   "outputs": [
    {
     "ename": "ValueError",
     "evalue": "List must contain nine numbers.",
     "output_type": "error",
     "traceback": [
      "\u001b[1;31m---------------------------------------------------------------------------\u001b[0m",
      "\u001b[1;31mValueError\u001b[0m                                Traceback (most recent call last)",
      "Cell \u001b[1;32mIn[9], line 1\u001b[0m\n\u001b[1;32m----> 1\u001b[0m calculate([\u001b[39m0\u001b[39;49m,\u001b[39m1\u001b[39;49m,\u001b[39m2\u001b[39;49m,\u001b[39m3\u001b[39;49m,\u001b[39m4\u001b[39;49m,\u001b[39m5\u001b[39;49m,\u001b[39m6\u001b[39;49m,\u001b[39m7\u001b[39;49m])\n",
      "Cell \u001b[1;32mIn[8], line 4\u001b[0m, in \u001b[0;36mcalculate\u001b[1;34m(list)\u001b[0m\n\u001b[0;32m      2\u001b[0m \u001b[39mdef\u001b[39;00m \u001b[39mcalculate\u001b[39m(\u001b[39mlist\u001b[39m):\n\u001b[0;32m      3\u001b[0m         \u001b[39mif\u001b[39;00m \u001b[39mlen\u001b[39m(\u001b[39mlist\u001b[39m) \u001b[39m!=\u001b[39m \u001b[39m9\u001b[39m:\n\u001b[1;32m----> 4\u001b[0m              \u001b[39mraise\u001b[39;00m \u001b[39mValueError\u001b[39;00m(\u001b[39m\"\u001b[39m\u001b[39mList must contain nine numbers.\u001b[39m\u001b[39m\"\u001b[39m )\n\u001b[0;32m      5\u001b[0m         np_array\u001b[39m=\u001b[39mnp\u001b[39m.\u001b[39masarray(\u001b[39mlist\u001b[39m)\n\u001b[0;32m      6\u001b[0m         userlist4 \u001b[39m=\u001b[39m np_array\u001b[39m.\u001b[39mreshape(\u001b[39m3\u001b[39m, \u001b[39m3\u001b[39m)\u001b[39m.\u001b[39mtolist()\n",
      "\u001b[1;31mValueError\u001b[0m: List must contain nine numbers."
     ]
    }
   ],
   "source": [
    "calculate([0,1,2,3,4,5,6,7])"
   ]
  }
 ],
 "metadata": {
  "kernelspec": {
   "display_name": "Python 3",
   "language": "python",
   "name": "python3"
  },
  "language_info": {
   "codemirror_mode": {
    "name": "ipython",
    "version": 3
   },
   "file_extension": ".py",
   "mimetype": "text/x-python",
   "name": "python",
   "nbconvert_exporter": "python",
   "pygments_lexer": "ipython3",
   "version": "3.11.1"
  },
  "orig_nbformat": 4,
  "vscode": {
   "interpreter": {
    "hash": "5497b72386db1d64dc2d56a04ea11f1641cad553d778d1406f803eeb54869f5c"
   }
  }
 },
 "nbformat": 4,
 "nbformat_minor": 2
}
